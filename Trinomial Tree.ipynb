{
 "cells": [
  {
   "cell_type": "markdown",
   "metadata": {},
   "source": [
    "# Bergische Universität Wuppertal #\n",
    "\n",
    "**Fakultät Mathematik und Naturwissenschaften** \n",
    "\n",
    "**Angewandte Mathematik/Numerische Analysis**\n",
    "\n",
    "\n"
   ]
  },
  {
   "cell_type": "markdown",
   "metadata": {},
   "source": [
    "# Computational Finance I\n",
    "\n"
   ]
  },
  {
   "cell_type": "markdown",
   "metadata": {},
   "source": [
    "# P1: Trinomial Tree\n",
    "In the problem we mentioned that a binomial model can be generalized to a trinomial model. In a trinomial model we need to consider three stock price developments: in one period the price increases by a factor of $u$ with the probability $p_u$, descreases by a factor of $d$ with the probability $p_d$, or remains unchanged with the probability $1−p_u −p_d$. The trinomial model can be built in a similar way to the binomial model, e.g., by matching the expectation and the variance and using $ud = 1$ we obtain:\n",
    "    $$ u = e^{\\sigma\\sqrt{2\\Delta t}}, \\quad d = e^{-\\sigma\\sqrt{2\\Delta t}}, \\quad p_d = \\left( \\frac{ e^{\\sigma\\sqrt{\\frac{\\Delta t}{2}}} - e^{r\\frac{\\Delta t}{2}} }{e^{\\sigma\\sqrt{\\frac{\\Delta t}{2}}} - e^{-\\sigma\\sqrt{\\frac{\\Delta t}{2}}}} \\right)^2, \\quad \\quad p_u = \\left( \\frac{ e^{r\\frac{\\Delta t}{2}} - e^{-\\sigma\\sqrt{\\frac{\\Delta t}{2}}}}{e^{\\sigma\\sqrt{\\frac{\\Delta t}{2}}} - e^{-\\sigma\\sqrt{\\frac{\\Delta t}{2}}}} \\right)^2.$$\n",
    "\n",
    "For the programming task I write the corresponding Python functions that are asked in each section below."
   ]
  },
  {
   "cell_type": "markdown",
   "metadata": {},
   "source": []
  },
  {
   "cell_type": "markdown",
   "metadata": {},
   "source": [
    "## Write your data"
   ]
  },
  {
   "cell_type": "code",
   "execution_count": 1,
   "metadata": {},
   "outputs": [
    {
     "name": "stdout",
     "output_type": "stream",
     "text": [
      "First Name:Mohammad Tohin \n",
      "Sure Name: Bapari\n",
      "Degree Type: Master\n",
      "Degree Name: Master of Science in Computer Simulation in Science \n"
     ]
    }
   ],
   "source": [
    "print(\"First Name:Mohammad Tohin \")\n",
    "print(\"Sure Name: Bapari\")\n",
    "print(\"Degree Type: Master\") # Bachelor or Master\n",
    "print(\"Degree Name: Master of Science in Computer Simulation in Science \") # E.g. Master of Science in Computer Simulation in Science"
   ]
  },
  {
   "cell_type": "markdown",
   "metadata": {},
   "source": [
    "## Import all necessary modules"
   ]
  },
  {
   "cell_type": "code",
   "execution_count": 2,
   "metadata": {},
   "outputs": [],
   "source": [
    "import math\n",
    "import numpy as np"
   ]
  },
  {
   "cell_type": "markdown",
   "metadata": {},
   "source": [
    "## Test Parameters"
   ]
  },
  {
   "cell_type": "code",
   "execution_count": 3,
   "metadata": {},
   "outputs": [],
   "source": [
    "# Input parameters\n",
    "sigma = 0.2\n",
    "K = 100\n",
    "S0 = 100\n",
    "N = 4\n",
    "r = 0.05\n",
    "T = 1\n",
    "d_t = T / N"
   ]
  },
  {
   "cell_type": "markdown",
   "metadata": {},
   "source": []
  },
  {
   "cell_type": "markdown",
   "metadata": {},
   "source": [
    "## Define a function to calculate the up and down factors"
   ]
  },
  {
   "cell_type": "code",
   "execution_count": 4,
   "metadata": {},
   "outputs": [],
   "source": [
    "def calc_ud(sigma, d_t):\n",
    "    \"\"\"\n",
    "    Function that calculates the factors in the trinomial model\n",
    "\n",
    "    Input: sigma -> volatility \n",
    "            d_t  -> time step size\n",
    "\n",
    "    Output: u -> upward movement\n",
    "            d -> downward movement\n",
    "\n",
    "    \"\"\"\n",
    "u=math.exp(sigma*(math.sqrt(2*d_t)))\n",
    "d=math.exp(-sigma*(math.sqrt(2*d_t)))\n"
   ]
  },
  {
   "cell_type": "code",
   "execution_count": 5,
   "metadata": {},
   "outputs": [
    {
     "name": "stdout",
     "output_type": "stream",
     "text": [
      "Expected output: u=1.151910, d=0.868123\n"
     ]
    }
   ],
   "source": [
    "# Calculate upward and downward movements\n",
    "print(\"Expected output: u=%f, d=%f\" %(u,d))"
   ]
  },
  {
   "cell_type": "markdown",
   "metadata": {},
   "source": [
    "**Expected Output:**\n",
    "`u = 1.151910, d = 0.868123`"
   ]
  },
  {
   "cell_type": "markdown",
   "metadata": {},
   "source": [
    "## Define a function to calculate the probabilities in the trinomial model"
   ]
  },
  {
   "cell_type": "code",
   "execution_count": 6,
   "metadata": {},
   "outputs": [],
   "source": [
    "def calc_prob(r, sigma, d_t):\n",
    "    \"\"\"\n",
    "    Function that calculates the probabilities in the trinomial model\n",
    "\n",
    "    Input: r     -> interest rate\n",
    "           sigma -> volatility\n",
    "           d_t   -> time step size\n",
    "\n",
    "    Output: p_u -> probability for upward movement\n",
    "            p_d -> probability for downward movement\n",
    "            p_m -> probability for no change\n",
    "\n",
    "    \"\"\"\n",
    "m1=math.exp(sigma*(math.sqrt(d_t/2)))\n",
    "m2=math.exp(-sigma*(math.sqrt(d_t/2)))\n",
    "n=math.exp(r*d_t/2)\n",
    "p_u=((n-m2)/(m1-m2))**2\n",
    "p_d=((m1-n)/(m1-m2))**2\n",
    "p_m=1-p_u-p_d\n"
   ]
  },
  {
   "cell_type": "code",
   "execution_count": 7,
   "metadata": {},
   "outputs": [
    {
     "name": "stdout",
     "output_type": "stream",
     "text": [
      "Expected output:p_u = 0.277334, p_d = 0.224084,p_m = 0.498582\n"
     ]
    }
   ],
   "source": [
    "# Calculate probabilities\n",
    "print(\"Expected output:p_u = %f, p_d = %f,p_m = %f\" %(p_u,p_d,p_m))"
   ]
  },
  {
   "cell_type": "markdown",
   "metadata": {},
   "source": [
    "**Expected Output:**\n",
    "`p_u = 0.277334, p_d = 0.224084, p_m = 0.498582`"
   ]
  },
  {
   "cell_type": "markdown",
   "metadata": {},
   "source": [
    "## Define a function to calculate the stock prices in the trinomial model"
   ]
  },
  {
   "cell_type": "code",
   "execution_count": 8,
   "metadata": {},
   "outputs": [],
   "source": [
    "def stock_price_trinom(S0, N, u, d):\n",
    "    \n",
    "    \"\"\"\n",
    "    Function that calculates the stock prices in the trinomial model\n",
    "    \n",
    "    Input: S0 -> Initial Stock Price\n",
    "           u  -> upward movement\n",
    "           d  -> downward movement\n",
    "           N  -> Number of time periods\n",
    "       \n",
    "    Output: S -> Upper triangular matrix of Stock prices with tirnomial model\n",
    "    \"\"\"\n",
    "S=np.zeros((2*N+1,N+1))\n",
    "S[0,0]=S0\n",
    "\n",
    "for j in range(1,N+1):\n",
    "     for i in range(0,2*j+1):\n",
    "        S[i,j]=S0*u**j*d**i\n",
    "   "
   ]
  },
  {
   "cell_type": "code",
   "execution_count": 9,
   "metadata": {},
   "outputs": [
    {
     "name": "stdout",
     "output_type": "stream",
     "text": [
      "\n",
      "Stock prices\n",
      "\n",
      " [[100.         115.19099102 132.68964411 152.84651603 176.06541655]\n",
      " [  0.         100.         115.19099102 132.68964411 152.84651603]\n",
      " [  0.          86.81234454 100.         115.19099102 132.68964411]\n",
      " [  0.           0.          86.81234454 100.         115.19099102]\n",
      " [  0.           0.          75.36383164  86.81234454 100.        ]\n",
      " [  0.           0.           0.          75.36383164  86.81234454]\n",
      " [  0.           0.           0.          65.42510919  75.36383164]\n",
      " [  0.           0.           0.           0.          65.42510919]\n",
      " [  0.           0.           0.           0.          56.7970712 ]]\n"
     ]
    }
   ],
   "source": [
    "# Calculate stock prices\n",
    "print(\"\\nStock prices\\n\\n\",S)"
   ]
  },
  {
   "cell_type": "markdown",
   "metadata": {},
   "source": [
    "**Expected Output:**\n",
    "\n",
    "`Stock Prices`\n",
    "\n",
    "`[[100.         115.19099102 132.68964411 152.84651603 176.06541655]\n",
    " [  0.         100.         115.19099102 132.68964411 152.84651603]\n",
    " [  0.          86.81234454 100.         115.19099102 132.68964411]\n",
    " [  0.           0.          86.81234454 100.         115.19099102]\n",
    " [  0.           0.          75.36383164  86.81234454 100.        ]\n",
    " [  0.           0.           0.          75.36383164  86.81234454]\n",
    " [  0.           0.           0.          65.42510919  75.36383164]\n",
    " [  0.           0.           0.           0.          65.42510919]\n",
    " [  0.           0.           0.           0.          56.7970712 ]]`"
   ]
  },
  {
   "cell_type": "markdown",
   "metadata": {},
   "source": [
    "## Define a function to calculate the European option price using trinomial model"
   ]
  },
  {
   "cell_type": "code",
   "execution_count": 10,
   "metadata": {},
   "outputs": [],
   "source": [
    "def priceTriEuro(N, K, r, S, p_u, p_d, p_m, d_t):\n",
    "    \"\"\"\n",
    "    Function that calculates the European option price using trinomial model\n",
    "    \n",
    "    Input: N     -> Number of time periods\n",
    "           K     -> Strike price\n",
    "           r     -> Interst rate\n",
    "           S     -> Upper triangular matrix\n",
    "           p_u   -> probability for upward movement\n",
    "           p_d   -> probability for downward movement\n",
    "           p_m   -> probability for no change\n",
    "           d_t   -> time step size\n",
    "       \n",
    "    Output: C -> European Call option \n",
    "            P -> European Put option \n",
    "\n",
    "    \"\"\"\n",
    "EC=np.zeros((2*N+1,N+1))\n",
    "EC[:, N] = np.maximum(np.zeros(2*N + 1), (S[:, N] - K)) \n",
    "\n",
    "for j in range(N-1, -1, -1):\n",
    "    for i in range(0, 2*j+1):\n",
    "        EC[i,j] = np.exp(-r*d_t)*(p_u * EC[i, j + 1] + p_m *EC[i+1, j+1 ]+p_d*EC[i+2,j+1])        \n",
    "\n",
    "EP=np.zeros((2*N+1,N+1))\n",
    "EP[:, N] = np.maximum(np.zeros(2*N + 1), (K-S[:, N])) \n",
    "\n",
    "for j in range(N-1, -1, -1):\n",
    "    for i in range(0, 2*j+1):\n",
    "        EP[i,j] = np.exp(-r*d_t)*(p_u * EP[i, j + 1] + p_m * EP[i+1, j+1 ]+p_d*EP[i+2,j+1])  \n"
   ]
  },
  {
   "cell_type": "code",
   "execution_count": 11,
   "metadata": {},
   "outputs": [
    {
     "name": "stdout",
     "output_type": "stream",
     "text": [
      "\n",
      "European Call\n",
      "\n",
      " [[10.20509942 20.0925775  35.15865291 54.08873598 76.06541655]\n",
      " [ 0.          8.49087322 18.30584772 33.93186407 52.84651603]\n",
      " [ 0.          2.35495086  6.54953395 16.43321097 32.68964411]\n",
      " [ 0.          0.          1.13955621  4.16064756 15.19099102]\n",
      " [ 0.          0.          0.          0.          0.        ]\n",
      " [ 0.          0.          0.          0.          0.        ]\n",
      " [ 0.          0.          0.          0.          0.        ]\n",
      " [ 0.          0.          0.          0.          0.        ]\n",
      " [ 0.          0.          0.          0.          0.        ]]\n",
      "\n",
      "European Put\n",
      "\n",
      " [[ 5.32804187  1.22102826  0.          0.          0.        ]\n",
      " [ 0.          4.810315    0.64584791  0.          0.        ]\n",
      " [ 0.         11.86204809  4.08052515  0.          0.        ]\n",
      " [ 0.          0.         11.85820287  2.91842761  0.        ]\n",
      " [ 0.          0.         22.16715956 11.94543551  0.        ]\n",
      " [ 0.          0.          0.         23.39394841 13.18765546]\n",
      " [ 0.          0.          0.         33.33267086 24.63616836]\n",
      " [ 0.          0.          0.          0.         34.57489081]\n",
      " [ 0.          0.          0.          0.         43.2029288 ]]\n"
     ]
    }
   ],
   "source": [
    "# Calculate European call and put values\n",
    "print('\\nEuropean Call\\n\\n',EC)\n",
    "print('\\nEuropean Put\\n\\n',EP)"
   ]
  },
  {
   "cell_type": "markdown",
   "metadata": {},
   "source": [
    "**Expected Output:**\n",
    "\n",
    "`European Call`\n",
    "\n",
    "`[[10.20509942 20.0925775  35.15865291 54.08873598 76.06541655]\n",
    " [ 0.          8.49087322 18.30584772 33.93186407 52.84651603]\n",
    " [ 0.          2.35495086  6.54953395 16.43321097 32.68964411]\n",
    " [ 0.          0.          1.13955621  4.16064756 15.19099102]\n",
    " [ 0.          0.          0.          0.          0.        ]\n",
    " [ 0.          0.          0.          0.          0.        ]\n",
    " [ 0.          0.          0.          0.          0.        ]\n",
    " [ 0.          0.          0.          0.          0.        ]\n",
    " [ 0.          0.          0.          0.          0.        ]]`\n",
    "\n",
    "`European Put`\n",
    "\n",
    "`[[ 5.32804187  1.22102826  0.          0.          0.        ]\n",
    " [ 0.          4.810315    0.64584791  0.          0.        ]\n",
    " [ 0.         11.86204809  4.08052515  0.          0.        ]\n",
    " [ 0.          0.         11.85820287  2.91842761  0.        ]\n",
    " [ 0.          0.         22.16715956 11.94543551  0.        ]\n",
    " [ 0.          0.          0.         23.39394841 13.18765546]\n",
    " [ 0.          0.          0.         33.33267086 24.63616836]\n",
    " [ 0.          0.          0.          0.         34.57489081]\n",
    " [ 0.          0.          0.          0.         43.2029288 ]]`"
   ]
  },
  {
   "cell_type": "markdown",
   "metadata": {},
   "source": [
    "## Define a function to calculate the American option price using trinomial model"
   ]
  },
  {
   "cell_type": "code",
   "execution_count": 12,
   "metadata": {},
   "outputs": [],
   "source": [
    "def priceTriAmer(N, K, r, S, p_u, p_d, p_m, d_t):\n",
    "    \"\"\"\n",
    "    Function that calculates the American option price using trinomial model\n",
    "    \n",
    "    Input: N     -> Number of time periods\n",
    "           K     -> Strike price\n",
    "           r     -> Interst rate\n",
    "           S     -> Upper triangular matrix\n",
    "           p_u   -> probability for upward movement\n",
    "           p_d   -> probability for downward movement\n",
    "           p_m   -> probability for no change\n",
    "           d_t   -> time step size\n",
    "       \n",
    "    Output: C -> American Call option \n",
    "            P -> American Put option \n",
    "\n",
    "    \"\"\"\n",
    "AC=np.zeros((2*N+1,N+1))\n",
    "AC[:, N] = np.maximum(np.zeros(2*N + 1), (S[:, N] - K)) \n",
    "\n",
    "for j in range(N-1, -1, -1):\n",
    "    for i in range(0, 2*j+1):\n",
    "        AC[i,j] = np.maximum(S[i,j]-K,np.exp(-r*d_t)*(p_u * AC[i, j + 1] + p_m *AC[i+1, j+1 ]+p_d*AC[i+2,j+1]))\n",
    "     \n",
    "AP=np.zeros((2*N+1,N+1))\n",
    "AP[:,N] = np.maximum(np.zeros(2*N + 1), (K-S[:, N]))\n",
    "\n",
    "for j in range(N-1, -1, -1):\n",
    "    for i in range(0, 2*j+1):\n",
    "        AP[i,j] =np.maximum(K-S[i,j],np.exp(-r*d_t)*(p_u * AP[i, j + 1] + p_m * AP[i+1, j+1 ]+p_d*AP[i+2,j+1]))\n",
    "     "
   ]
  },
  {
   "cell_type": "code",
   "execution_count": 13,
   "metadata": {},
   "outputs": [
    {
     "name": "stdout",
     "output_type": "stream",
     "text": [
      "American Call\n",
      "\n",
      " [[10.20509942 20.0925775  35.15865291 54.08873598 76.06541655]\n",
      " [ 0.          8.49087322 18.30584772 33.93186407 52.84651603]\n",
      " [ 0.          2.35495086  6.54953395 16.43321097 32.68964411]\n",
      " [ 0.          0.          1.13955621  4.16064756 15.19099102]\n",
      " [ 0.          0.          0.          0.          0.        ]\n",
      " [ 0.          0.          0.          0.          0.        ]\n",
      " [ 0.          0.          0.          0.          0.        ]\n",
      " [ 0.          0.          0.          0.          0.        ]\n",
      " [ 0.          0.          0.          0.          0.        ]]\n",
      "\n",
      "American Put\n",
      "\n",
      " [[ 5.84957502  1.28186433  0.          0.          0.        ]\n",
      " [ 0.          5.23988204  0.64584791  0.          0.        ]\n",
      " [ 0.         13.18765546  4.35542837  0.          0.        ]\n",
      " [ 0.          0.         13.18765546  2.91842761  0.        ]\n",
      " [ 0.          0.         24.63616836 13.18765546  0.        ]\n",
      " [ 0.          0.          0.         24.63616836 13.18765546]\n",
      " [ 0.          0.          0.         34.57489081 24.63616836]\n",
      " [ 0.          0.          0.          0.         34.57489081]\n",
      " [ 0.          0.          0.          0.         43.2029288 ]]\n"
     ]
    }
   ],
   "source": [
    "# Calculate American call and put values\n",
    "print('American Call\\n\\n',AC)\n",
    "print('\\nAmerican Put\\n\\n',AP)"
   ]
  },
  {
   "cell_type": "markdown",
   "metadata": {},
   "source": [
    "**Expected Output:**\n",
    "\n",
    "`American Call`\n",
    "\n",
    "`[[10.20509942 20.0925775  35.15865291 54.08873598 76.06541655]\n",
    " [ 0.          8.49087322 18.30584772 33.93186407 52.84651603]\n",
    " [ 0.          2.35495086  6.54953395 16.43321097 32.68964411]\n",
    " [ 0.          0.          1.13955621  4.16064756 15.19099102]\n",
    " [ 0.          0.          0.          0.          0.        ]\n",
    " [ 0.          0.          0.          0.          0.        ]\n",
    " [ 0.          0.          0.          0.          0.        ]\n",
    " [ 0.          0.          0.          0.          0.        ]\n",
    " [ 0.          0.          0.          0.          0.        ]]`\n",
    "\n",
    "`American Put`\n",
    "\n",
    "`[[ 5.84957502  1.28186433  0.          0.          0.        ]\n",
    " [ 0.          5.23988204  0.64584791  0.          0.        ]\n",
    " [ 0.         13.18765546  4.35542837  0.          0.        ]\n",
    " [ 0.          0.         13.18765546  2.91842761  0.        ]\n",
    " [ 0.          0.         24.63616836 13.18765546  0.        ]\n",
    " [ 0.          0.          0.         24.63616836 13.18765546]\n",
    " [ 0.          0.          0.         34.57489081 24.63616836]\n",
    " [ 0.          0.          0.          0.         34.57489081]\n",
    " [ 0.          0.          0.          0.         43.2029288 ]]`"
   ]
  },
  {
   "cell_type": "markdown",
   "metadata": {},
   "source": [
    "## Comparing European and American option values calculated with Trinomial Model from the exact Solution"
   ]
  },
  {
   "cell_type": "code",
   "execution_count": 14,
   "metadata": {},
   "outputs": [],
   "source": [
    "# Calculate European and American put values for different N and compare to exact solution\n",
    "# Exact Values\n",
    "E_P_ex = 5.5735\n",
    "A_P_ex = 6.0624\n",
    "N=[4,16,64,256,512,1024]\n"
   ]
  },
  {
   "cell_type": "markdown",
   "metadata": {},
   "source": [
    "**Expected Output:**\n",
    "![title](trinom_tree.png)"
   ]
  }
 ],
 "metadata": {
  "kernelspec": {
   "display_name": "Python 3 (ipykernel)",
   "language": "python",
   "name": "python3"
  },
  "language_info": {
   "codemirror_mode": {
    "name": "ipython",
    "version": 3
   },
   "file_extension": ".py",
   "mimetype": "text/x-python",
   "name": "python",
   "nbconvert_exporter": "python",
   "pygments_lexer": "ipython3",
   "version": "3.9.7"
  }
 },
 "nbformat": 4,
 "nbformat_minor": 2
}
